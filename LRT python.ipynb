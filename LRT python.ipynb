{
 "cells": [
  {
   "cell_type": "markdown",
   "id": "4b3e17e4",
   "metadata": {},
   "source": [
    "# Likelihood Ratio Test\n"
   ]
  },
  {
   "cell_type": "markdown",
   "id": "06f43d40",
   "metadata": {},
   "source": [
    "## Normal model with variance known\n",
    "            \n",
    "Suppose that we have a sample $x_{1},..., x_{n}$ and we assume the following model\n",
    "\n",
    "$$\n",
    " \\bigg\\{  N\\big( \\mu, \\sigma^{2}    \\big) ; \\mu \\in \\mathbb{R} \\bigg\\} \n",
    "$$\n",
    "\n",
    "That is a normal distribution with mean $\\mu$, unknown and variance $\\sigma^{2}$, known. We want to test\n",
    "\n",
    "$$\n",
    "H_{0} : \\mu = \\mu_{0} \\ \\text{against}  \\  H_{1} : \\mu \\neq \\mu_{0}\n",
    "$$\n",
    "\n",
    "The idea is to set up a test of hypothesis based on the Maximum Likelihood Estimator (MLE) $\\hat{\\mu}$.\n",
    "\n",
    "## Likelihood Ratio Test (LRT)\n",
    "\n",
    "By definition, the Likelihood Ratio Test (LRT) statistic is given by\n",
    "\n",
    "\n",
    "$$\n",
    " \\Lambda(x_{1},..., x_{n})  = \\frac{ \\prod_{i=1}^{n} \\frac{1}{\\sqrt{2\\pi\\sigma^{2}}}    e^{-\\frac{1}{2} \\big( \\frac{x_{i} - \\hat{\\mu}}{\\sigma} \\big)^2}}{\\prod_{i=1}^{n}  \\frac{1}{\\sqrt{2\\pi\\sigma^{2}}}  \\ e^{   -\\frac{1}{2}    \\big( \\frac{x_{i} - \\mu_{0}} {\\sigma} \\big)^2    }    }\n",
    "$$\n",
    "\n",
    "Which simplifies to  \n",
    "\n",
    "$$\n",
    " \\Lambda(x_{1},..., x_{n})  = exp \\bigg(      -\\frac{1}{2 \\sigma^{2}}  \\sum_{i=1}^{n} \\big(x_{i} -  \\hat{\\mu}\\big)^{2}  +   \\frac{1}{2 \\sigma^{2}}  \\sum_{i=1}^{n} \\big(x_{i} -  \\mu_{0} \\big)^{2}                \\bigg)\n",
    "$$\n",
    "\n",
    "Where $\\hat{\\mu}$ is the Maximum Likelihood estimator for $\\mu$ and is equal to $\\bar{x}$.\n",
    "\n",
    "Now, it is interesting to note that twice the logarithm of  $ \\Lambda(x_{1},..., x_{n})$ gives us a convenient expression (see next slide)\n",
    "\n",
    "\n",
    "## Likelihood Ratio Test (LRT) \n",
    "\n",
    "\n",
    "$$\n",
    "\\begin{align*}\n",
    "2 ln \\big( \\Lambda(x_{1},..., x_{n})  \\big) & = -\\frac{1}{ \\sigma^{2}}  \\sum_{i=1}^{n} \\big(x_{i} - \\bar{x}\\big)^{2}  +   \\frac{1}{ \\sigma^{2}}  \\sum_{i=1}^{n} \\big(x_{i}^{2}  -  \\mu_{0} \\big)^{2}     \\\\  \n",
    "& =  -\\frac{1}{ \\sigma^{2}}  \\sum_{i=1}^{n} \\big(x_{i}^{2} - 2 x_{i}  \\bar{x} +  \\bar{x}^{2}   \\big)  +   \\frac{1}{ \\sigma^{2}}  \\sum_{i=1}^{n} \\big(x_{i}^{2}  -2 x_{i}  \\mu_{0} + \\mu_{0}^{2} \\big)     \\\\  \n",
    "& =  -\\frac{1}{ \\sigma^{2}}            \\bigg(    \\sum_{i=1}^{n} x_{i}^{2}  - 2 \\bar{x}  \\sum_{i=1}^{n} x_{i}   +  \\sum_{i=1}^{n}  \\bar{x}^{2}   \\bigg)  +   \\frac{1}{ \\sigma^{2}}                                                                                     \\bigg(   \\sum_{i=1}^{n}  x_{i}^{2}  -2 \\mu_{0}  \\sum_{i=1}^{n}  x_{i}^{2}    +  \\sum_{i=1}^{n}  \\mu_{0}^{2} \\bigg)     \\\\  \n",
    "& =  \\frac{1}{ \\sigma^{2}}            \\bigg(   - \\sum_{i=1}^{n} x_{i}^{2}  + 2 \\bar{x}  \\sum_{i=1}^{n} x_{i}   -  \\sum_{i=1}^{n} \\bar{x}^{2}   +  \\sum_{i=1}^{n}  x_{i}^{2}  -2 \\mu_{0}  \\sum_{i=1}^{n}  x_{i}^{2}    +  \\sum_{i=1}^{n}  \\mu_{0}^{2} \\bigg)     \\\\  \n",
    "& =  \\frac{n}{ \\sigma^{2}}            \\bigg(   -    \\frac{1}{n}  \\sum_{i=1}^{n} x_{i}^{2}  + 2 \\bar{x}  \\frac{1}{n} \\sum_{i=1}^{n} x_{i}   -   \\frac{1}{n} n \\bar{x}^{2}   +  \\frac{1}{n} \\sum_{i=1}^{n}  x_{i}^{2}  -2 \\mu_{0}  \\frac{1}{n} \\sum_{i=1}^{n}  x_{i}   +  \\frac{1}{n} n \\mu_{0}^{2} \\bigg)     \\\\  \n",
    "& =  \\frac{n}{ \\sigma^{2}}            \\bigg(    2 \\bar{x}^{2}  -    \\bar{x}^{2}   -2 \\mu_{0} \\bar{x}  +  \\mu_{0}^{2} \\bigg)     \\\\  \n",
    "& =  \\frac{n}{ \\sigma^{2}}            \\bigg(    \\bar{x}    -2 \\mu_{0} \\bar{x}  +  \\mu_{0}^{2} \\bigg)     = n       \\bigg(  \\frac{   \\bar{x}    -  \\mu_{0} }{\\sigma} \\bigg)^{2}     \\\\  \n",
    "\\end{align*}\n",
    "$$\n",
    "\n",
    "## Likelihood Ratio Test (LRT)\n",
    "\n",
    "And by the CLT, \n",
    "we know that $ \\sqrt{ n}       \\big(  \\frac{   \\bar{x}    -  \\mu_{0} }{\\sigma} \\big) \\sim N \\big(0, 1 \\big)$.\n",
    "\n",
    "Since, by definition, \n",
    "\n",
    "$$\n",
    "\\sum_{i=1}^{n} Z_{i}^{2}  \\sim \\chi_{n}^{2}\n",
    "$$\n",
    "\n",
    "It follows that \n",
    "\n",
    "$$\n",
    "2 ln \\big( \\Lambda(x_{1},..., x_{n})  \\big) \\sim \\chi_{1}^{2}\n",
    "$$\n",
    "\n",
    "And therefore $H_{0}$ is rejected if $n       \\bigg(  \\frac{   \\bar{x}    -  \\mu_{0} }{\\sigma} \\bigg)^{2}   > \\chi_{1, 1 - \\alpha}^{2} $.\n",
    "\n"
   ]
  },
  {
   "cell_type": "markdown",
   "id": "eb7578f8",
   "metadata": {},
   "source": [
    "## Working example 1\n",
    "\n",
    "Suppost that we get the following sample of size $40$:\n",
    "\n",
    " [1] 11.75  9.05  6.37 11.44 10.10 15.27  9.26 15.00 10.80 10.60 12.98 10.76 \n",
    "     13.69 13.99 10.19 14.10 13.79 13.36 14.69 13.72 10.77 11.12 15.66\n",
    "     12.73 10.66  6.46 10.11  9.42 16.54 20.21 11.18 15.83  9.57 11.87 10.08\n",
    "     10.68 13.52 15.39 14.93 11.63\n",
    "\n",
    "The data are available here:\n",
    "\n",
    "https://github.com/JRigh/Likelihood-Ratio-Tests/blob/main/data.csv\n",
    "\n",
    "For what integer value(s) of $\\mu_{0}$ the LRT statistic \n",
    "is NOT rejected at a significance level of $5 \\%$? In other words, what are acceptable population mean for that dataset? Answer: $12$ and $13$ (see code below).\n"
   ]
  },
  {
   "cell_type": "code",
   "execution_count": 12,
   "id": "80c462e9",
   "metadata": {},
   "outputs": [
    {
     "data": {
      "text/plain": [
       "array([['5', '232.43648027777778', 'Yes'],\n",
       "       ['6', '172.5987025', 'Yes'],\n",
       "       ['7', '121.6498136111111', 'Yes'],\n",
       "       ['8', '79.58981361111111', 'Yes'],\n",
       "       ['9', '46.4187025', 'Yes'],\n",
       "       ['10', '22.136480277777775', 'Yes'],\n",
       "       ['11', '6.743146944444444', 'Yes'],\n",
       "       ['12', '0.2387024999999998', 'No'],\n",
       "       ['13', '2.623146944444445', 'No'],\n",
       "       ['14', '13.89648027777778', 'Yes'],\n",
       "       ['15', '34.0587025', 'Yes']], dtype='<U32')"
      ]
     },
     "execution_count": 12,
     "metadata": {},
     "output_type": "execute_result"
    }
   ],
   "source": [
    "import numpy as np\n",
    "import pandas as pd\n",
    "from scipy.stats import chi2\n",
    "\n",
    "\n",
    "# import the data\n",
    "data = pd.read_csv(\"C:/Users/julia/OneDrive/Desktop/github/36. LRT/data.csv\")\n",
    "data\n",
    "\n",
    "# Calculate LRT statistic for each mu0\n",
    "lrt_statistic = n * ((np.mean(data['x']) - mu0)**2 / sigma**2)\n",
    "\n",
    "# Calculate the critical value from the chi-squared distribution\n",
    "critical_value = chi2.ppf(1 - alpha, df=1)\n",
    "\n",
    "# Perform the Likelihood Ratio Test and make decisions\n",
    "decisions = np.where(lrt_statistic > critical_value, \"Yes\", \"No\")\n",
    "\n",
    "# Create a results data array\n",
    "results = np.column_stack((mu0, lrt_statistic, decisions))\n",
    "results"
   ]
  },
  {
   "cell_type": "code",
   "execution_count": null,
   "id": "bef253db",
   "metadata": {},
   "outputs": [],
   "source": []
  }
 ],
 "metadata": {
  "kernelspec": {
   "display_name": "Python 3 (ipykernel)",
   "language": "python",
   "name": "python3"
  },
  "language_info": {
   "codemirror_mode": {
    "name": "ipython",
    "version": 3
   },
   "file_extension": ".py",
   "mimetype": "text/x-python",
   "name": "python",
   "nbconvert_exporter": "python",
   "pygments_lexer": "ipython3",
   "version": "3.10.9"
  }
 },
 "nbformat": 4,
 "nbformat_minor": 5
}
